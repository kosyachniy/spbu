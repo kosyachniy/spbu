{
 "cells": [
  {
   "cell_type": "code",
   "execution_count": 1,
   "metadata": {},
   "outputs": [],
   "source": [
    "import numpy as np\n",
    "import random\n",
    "import os, os.path\n",
    "import cv2\n",
    "import skimage\n",
    "from skimage import io, draw\n",
    "from skimage.filters import roberts, sobel, scharr, prewitt\n",
    "from skimage.transform import rescale\n",
    "from scipy.fftpack import dct\n",
    "import imageio\n",
    "from IPython.display import Image\n",
    "from collections import Counter\n",
    "\n",
    "from mpl_toolkits.mplot3d import Axes3D\n",
    "from matplotlib import cm\n",
    "from matplotlib.ticker import LinearLocator, FormatStrFormatter\n",
    "\n",
    "from matplotlib import pyplot as plt\n",
    "import matplotlib.animation as animation\n",
    "%matplotlib inline"
   ]
  },
  {
   "cell_type": "code",
   "execution_count": 2,
   "metadata": {},
   "outputs": [],
   "source": [
    "def load_from_folders(path,k, from_idx=0, to_idx=100, seed=0):\n",
    "    train = []\n",
    "    train_labels = []\n",
    "    test = []\n",
    "    test_labels = []\n",
    "    i = 0\n",
    "    for_delete = set()\n",
    "    random.seed(seed);\n",
    "    for dir in os.listdir(path)[from_idx:to_idx]:\n",
    "        dir_path = os.path.join(path, dir)\n",
    "        if os.path.isdir(dir_path):\n",
    "            subj_images = []\n",
    "            if len(os.listdir(dir_path)) < 11:\n",
    "                for_delete.add(dir_path[-3:])\n",
    "            for file in os.listdir(dir_path):\n",
    "                file_path = os.path.join(dir_path, file)\n",
    "                if file_path[-1] != 't':\n",
    "                    img = io.imread(file_path)\n",
    "                    if img.shape != (256,256):\n",
    "                        for_delete.add(dir_path[-3:])\n",
    "                    subj_images.append(img)\n",
    "            if(seed >= 0):\n",
    "                random.shuffle(subj_images)\n",
    "            subj_images = subj_images[::-1]\n",
    "            \n",
    "            test.extend(subj_images[0:k])    # одно изображение для распознавания\n",
    "            test_labels.extend([i for x in subj_images[:k]])    # метки класса\n",
    "            train.extend(subj_images[k:])  # Другие разпознаем\n",
    "            train_labels.extend([i for x in subj_images[k:]])    # метки класса\n",
    "            i +=1\n",
    "    train = np.array(train)\n",
    "    test = np.array(test)\n",
    "    return train, train_labels, test, test_labels"
   ]
  },
  {
   "cell_type": "code",
   "execution_count": 4,
   "metadata": {},
   "outputs": [],
   "source": [
    "color = [100, 0, 0]  # 'cause purple!\n",
    "top, bottom, left, right = [6]*4\n",
    "train, train_labels, test, test_labels = load_from_folders('data/orl_faces/', 3 ,0, 100)"
   ]
  },
  {
   "cell_type": "code",
   "execution_count": 5,
   "metadata": {},
   "outputs": [],
   "source": [
    "def cosine_similarity(a,b):\n",
    "    return np.dot(a.reshape(-1), b.reshape(-1))/(np.linalg.norm(a)*np.linalg.norm(b))\n",
    "\n",
    "def distance(a,b,mode='euc'):\n",
    "    if mode=='euc':\n",
    "        return np.linalg.norm(a - b)\n",
    "    elif mode=='abs':\n",
    "        return np.mean(np.abs(a.reshape(-1) - b.reshape(-1)))"
   ]
  },
  {
   "cell_type": "code",
   "execution_count": 6,
   "metadata": {},
   "outputs": [],
   "source": [
    "def classify(clf, img, train, train_labels, transform=True):\n",
    "    if transform:\n",
    "        distances = np.array(list(map(lambda img2: clf.Distance(img, img2), train)))\n",
    "    else:\n",
    "        distances = np.array(list(map(lambda img2: clf.Distance_simple(img, img2), train)))\n",
    "    return train_labels[distances.argmin()]"
   ]
  },
  {
   "cell_type": "code",
   "execution_count": 7,
   "metadata": {},
   "outputs": [],
   "source": [
    "class HistogramClassifier:\n",
    "    def __init__(self, size=10):\n",
    "        self.size = size\n",
    "        \n",
    "    def Distance(self, img1, img2):\n",
    "        img1_hist = cv2.calcHist([np.float32(img1)],[0],None,[self.size],[0,256])\n",
    "        img2_hist = cv2.calcHist([np.float32(img2)],[0],None,[self.size],[0,256])\n",
    "        return np.linalg.norm(img1_hist - img2_hist)\n",
    "    \n",
    "    def Distance_simple(self, img1_hist, img2_hist):\n",
    "        return np.linalg.norm(img1_hist - img2_hist)"
   ]
  },
  {
   "cell_type": "code",
   "execution_count": 8,
   "metadata": {},
   "outputs": [],
   "source": [
    "class DFTClassifier:\n",
    "    def __init__(self, size=100):\n",
    "        self.size = size\n",
    "        \n",
    "    def Distance(self, img1, img2): \n",
    "        img1_dft = np.fft.fft2(img1)\n",
    "        img1_dft = np.fft.fftshift(img1_dft)\n",
    "        img1_dft = 20*np.log(np.abs(img1_dft))\n",
    "        img1_dft = img1_dft[:self.size, :self.size]\n",
    "        \n",
    "        img2_dft = np.fft.fft2(img2)\n",
    "        img2_dft = np.fft.fftshift(img2_dft)\n",
    "        img2_dft = 20*np.log(np.abs(img2_dft))\n",
    "        img2_dft = img2_dft[:self.size, :self.size]\n",
    "        \n",
    "        return np.linalg.norm(img1_dft - img2_dft)\n",
    "    \n",
    "    def Distance_simple(self, img1_dft, img2_dft):\n",
    "        return np.linalg.norm(img1_dft - img2_dft)"
   ]
  },
  {
   "cell_type": "code",
   "execution_count": 9,
   "metadata": {},
   "outputs": [],
   "source": [
    "class DCTClassifier:\n",
    "    def __init__(self, size=10):\n",
    "        self.size = size\n",
    "        \n",
    "    def Distance(self, img1, img2):\n",
    "        img1_dct = dct(dct(img1.T, norm='ortho').T, norm='ortho')\n",
    "        img1_dct = img1_dct[:self.size, :self.size]\n",
    "        img2_dct = dct(dct(img2.T, norm='ortho').T, norm='ortho')\n",
    "        img2_dct = img2_dct[:self.size, :self.size]\n",
    "        return np.linalg.norm(img1_dct - img2_dct)\n",
    "    \n",
    "    def Distance_simple(self, img1_dct, img2_dct):\n",
    "        return np.linalg.norm(img1_dct - img2_dct)"
   ]
  },
  {
   "cell_type": "code",
   "execution_count": 10,
   "metadata": {},
   "outputs": [],
   "source": [
    "class ScaleClassifier:\n",
    "    def __init__(self, scales=[2,3,4]):\n",
    "        self.scales = scales\n",
    "\n",
    "    def Distance(self, img1, img2):\n",
    "        dist = 0\n",
    "        \n",
    "        for s in self.scales:\n",
    "            img1_rescaled = rescale(img1, 1/s, mode='constant', anti_aliasing=False, multichannel=False)\n",
    "            img2_rescaled = rescale(img2, 1/s, mode='constant', anti_aliasing=False, multichannel=False)\n",
    "            \n",
    "            dist += np.linalg.norm(img1_rescaled - img2_rescaled)\n",
    "        \n",
    "        dist /= len(self.scales)\n",
    "        return dist\n",
    "    \n",
    "    def Distance_simple(self, img1_rescaled, img2_rescaled):\n",
    "        return np.linalg.norm(img1_rescaled - img2_rescaled)"
   ]
  },
  {
   "cell_type": "code",
   "execution_count": 11,
   "metadata": {},
   "outputs": [],
   "source": [
    "class GradientClassifier:\n",
    "    def __init__(self, ksize=5, ord=0.05):\n",
    "        self.ksize = ksize\n",
    "        self.ord = ord\n",
    "    \n",
    "    def Distance(self, img1, img2):\n",
    "        img1_grad = cv2.Sobel(img1,cv2.CV_64F,0,1,ksize=self.ksize).mean(axis=0)\n",
    "        img2_grad = cv2.Sobel(img2,cv2.CV_64F,0,1,ksize=self.ksize).mean(axis=0)\n",
    "        return np.linalg.norm(img1_grad - img2_grad, ord=self.ord)\n",
    "    \n",
    "    def Distance_simple(self, img1_grad, img2_grad):\n",
    "        return np.linalg.norm(img1_grad - img2_grad)"
   ]
  },
  {
   "cell_type": "code",
   "execution_count": null,
   "metadata": {},
   "outputs": [],
   "source": []
  },
  {
   "cell_type": "code",
   "execution_count": null,
   "metadata": {},
   "outputs": [],
   "source": []
  },
  {
   "cell_type": "code",
   "execution_count": null,
   "metadata": {},
   "outputs": [],
   "source": []
  },
  {
   "cell_type": "code",
   "execution_count": null,
   "metadata": {},
   "outputs": [],
   "source": []
  },
  {
   "cell_type": "code",
   "execution_count": null,
   "metadata": {},
   "outputs": [],
   "source": []
  },
  {
   "cell_type": "code",
   "execution_count": null,
   "metadata": {},
   "outputs": [],
   "source": []
  },
  {
   "cell_type": "code",
   "execution_count": null,
   "metadata": {},
   "outputs": [],
   "source": []
  },
  {
   "cell_type": "code",
   "execution_count": null,
   "metadata": {},
   "outputs": [],
   "source": []
  },
  {
   "cell_type": "code",
   "execution_count": 13,
   "metadata": {},
   "outputs": [
    {
     "data": {
      "text/plain": [
       "<matplotlib.image.AxesImage at 0x12f05ced0>"
      ]
     },
     "execution_count": 13,
     "metadata": {},
     "output_type": "execute_result"
    },
    {
     "data": {
      "image/png": "[encoded data removed]",
      "text/plain": [
       "<Figure size 720x720 with 2 Axes>"
      ]
     },
     "metadata": {
      "needs_background": "light"
     },
     "output_type": "display_data"
    }
   ],
   "source": [
    "\n",
    "s = \"\"\n",
    "image1 = io.imread(s+\"data/orl_faces/s10/1.pgm\")\n",
    "image2 = io.imread(s+\"data/orl_faces/s22/1.pgm\")\n",
    "\n",
    "fig = plt.figure(figsize=(10,10))\n",
    "fig.add_subplot(1,2, 1)\n",
    "plt.imshow(image1, cmap=\"gray\")\n",
    "fig.add_subplot(1,2, 2)\n",
    "plt.imshow(image2, cmap=\"gray\")"
   ]
  },
  {
   "cell_type": "code",
   "execution_count": 14,
   "metadata": {},
   "outputs": [
    {
     "name": "stdout",
     "output_type": "stream",
     "text": [
      "4.1231055 4.1231055\n"
     ]
    },
    {
     "data": {
      "image/png": "[encoded data removed]",
      "text/plain": [
       "<Figure size 1080x216 with 2 Axes>"
      ]
     },
     "metadata": {
      "needs_background": "light"
     },
     "output_type": "display_data"
    }
   ],
   "source": [
    "# Гистограмма яркости\n",
    "size = 25\n",
    "hist_clf = HistogramClassifier(size)\n",
    "\n",
    "img1_hist = cv2.calcHist([image1],[0],None,[size],[0,256])\n",
    "img2_hist = cv2.calcHist([image2],[0],None,[size],[0,256])\n",
    "\n",
    "fig = plt.figure(figsize=(15,3))\n",
    "fig.add_subplot(1,2, 1)\n",
    "plt.hist(img1_hist)\n",
    "fig.add_subplot(1,2, 2)\n",
    "plt.hist(img2_hist)\n",
    "print(hist_clf.Distance(img1_hist,img2_hist), hist_clf.Distance(img1_hist,img2_hist))"
   ]
  },
  {
   "cell_type": "code",
   "execution_count": 15,
   "metadata": {},
   "outputs": [
    {
     "name": "stdout",
     "output_type": "stream",
     "text": [
      "182.96453465858175 182.96453465858175\n"
     ]
    },
    {
     "data": {
      "image/png": "[encoded data removed]",
      "text/plain": [
       "<Figure size 720x720 with 2 Axes>"
      ]
     },
     "metadata": {
      "needs_background": "light"
     },
     "output_type": "display_data"
    }
   ],
   "source": [
    "# DFT\n",
    "size=10\n",
    "dft_clf = DFTClassifier(size=size)\n",
    "\n",
    "img1_dft = np.fft.fft2(image1)\n",
    "img1_dft = np.fft.fftshift(img1_dft)\n",
    "img1_dft = 20*np.log(np.abs(img1_dft))\n",
    "\n",
    "img2_dft = np.fft.fft2(image2)\n",
    "img2_dft = np.fft.fftshift(img2_dft)\n",
    "img2_dft = 20*np.log(np.abs(img2_dft))\n",
    "\n",
    "fig = plt.figure(figsize=(10,10))\n",
    "fig.add_subplot(1,2, 1)\n",
    "plt.imshow(img1_dft, cmap=\"gray\")\n",
    "fig.add_subplot(1,2, 2)\n",
    "plt.imshow(img2_dft, cmap=\"gray\")\n",
    "\n",
    "print(dft_clf.Distance(image1,image2), dft_clf.Distance(image1,image2))"
   ]
  },
  {
   "cell_type": "code",
   "execution_count": 16,
   "metadata": {},
   "outputs": [
    {
     "name": "stdout",
     "output_type": "stream",
     "text": [
      "3926.938528891909 3926.938528891909\n"
     ]
    },
    {
     "data": {
      "image/png": "[encoded data removed]",
      "text/plain": [
       "<Figure size 720x720 with 2 Axes>"
      ]
     },
     "metadata": {
      "needs_background": "light"
     },
     "output_type": "display_data"
    }
   ],
   "source": [
    "# DCT\n",
    "size = 5\n",
    "dct_clf = DCTClassifier(size=5)\n",
    "\n",
    "img1_dct = dct(dct(image1.T, norm='ortho').T, norm='ortho')\n",
    "img1_dct = img1_dct[:size, :size]\n",
    "img2_dct = dct(dct(image2.T, norm='ortho').T, norm='ortho')\n",
    "img2_dct = img2_dct[:size, :size]\n",
    "\n",
    "fig = plt.figure(figsize=(10,10))\n",
    "fig.add_subplot(1,2, 1)\n",
    "plt.imshow(img1_dct, cmap=\"gray\")\n",
    "fig.add_subplot(1,2, 2)\n",
    "plt.imshow(img2_dct, cmap=\"gray\")\n",
    "\n",
    "print(dct_clf.Distance(image1,image2), dct_clf.Distance(image1,image2))"
   ]
  },
  {
   "cell_type": "code",
   "execution_count": 17,
   "metadata": {},
   "outputs": [
    {
     "data": {
      "image/png": "[encoded data removed]",
      "text/plain": [
       "<Figure size 720x720 with 2 Axes>"
      ]
     },
     "metadata": {
      "needs_background": "light"
     },
     "output_type": "display_data"
    },
    {
     "name": "stdout",
     "output_type": "stream",
     "text": [
      "5.811751888663062 5.811751888663062\n"
     ]
    }
   ],
   "source": [
    "# Scale\n",
    "coeff = 4\n",
    "scale_clf = ScaleClassifier(scales=[coeff])\n",
    "\n",
    "fig = plt.figure(figsize=(10,10))\n",
    "fig.add_subplot(1,3, 1)\n",
    "plt.imshow(rescale(image1, 1/float(coeff), mode='constant', anti_aliasing=False, multichannel=False), cmap=\"gray\")\n",
    "fig.add_subplot(1,3, 2)\n",
    "plt.imshow(rescale(image2, 1/float(coeff), mode='constant', anti_aliasing=False, multichannel=False), cmap=\"gray\")\n",
    "plt.show()\n",
    "\n",
    "print(scale_clf.Distance(image1,image2), scale_clf.Distance(image1,image2))"
   ]
  },
  {
   "cell_type": "code",
   "execution_count": 18,
   "metadata": {},
   "outputs": [
    {
     "name": "stdout",
     "output_type": "stream",
     "text": [
      "8.96285589836414e+56\n"
     ]
    },
    {
     "data": {
      "image/png": "[encoded data removed]",
      "text/plain": [
       "<Figure size 1080x216 with 2 Axes>"
      ]
     },
     "metadata": {
      "needs_background": "light"
     },
     "output_type": "display_data"
    }
   ],
   "source": [
    "# Градиент\n",
    "ksize = 31\n",
    "\n",
    "grad_clf = GradientClassifier(ksize=ksize)\n",
    "\n",
    "img1_grad = cv2.Sobel(image1,cv2.CV_64F,0,1,ksize=ksize).mean(axis=0)\n",
    "img2_grad = cv2.Sobel(image2,cv2.CV_64F,0,1,ksize=ksize).mean(axis=0)\n",
    "\n",
    "fig = plt.figure(figsize=(15,3))\n",
    "fig.add_subplot(1,2, 1)\n",
    "plt.plot(img1_grad)\n",
    "fig.add_subplot(1,2, 2)\n",
    "plt.plot(img2_grad)\n",
    "\n",
    "print(grad_clf.Distance(image1,image2))"
   ]
  },
  {
   "cell_type": "code",
   "execution_count": 22,
   "metadata": {},
   "outputs": [
    {
     "data": {
      "text/plain": [
       "<Figure size 720x720 with 0 Axes>"
      ]
     },
     "metadata": {},
     "output_type": "display_data"
    },
    {
     "data": {
      "text/plain": [
       "<Figure size 720x720 with 0 Axes>"
      ]
     },
     "metadata": {},
     "output_type": "display_data"
    },
    {
     "data": {
      "text/plain": [
       "<Figure size 720x720 with 0 Axes>"
      ]
     },
     "metadata": {},
     "output_type": "display_data"
    },
    {
     "data": {
      "text/plain": [
       "<Figure size 720x720 with 0 Axes>"
      ]
     },
     "metadata": {},
     "output_type": "display_data"
    },
    {
     "data": {
      "text/plain": [
       "<Figure size 720x720 with 0 Axes>"
      ]
     },
     "metadata": {},
     "output_type": "display_data"
    },
    {
     "data": {
      "text/plain": [
       "<Figure size 720x720 with 0 Axes>"
      ]
     },
     "metadata": {},
     "output_type": "display_data"
    },
    {
     "data": {
      "text/plain": [
       "<Figure size 720x720 with 0 Axes>"
      ]
     },
     "metadata": {},
     "output_type": "display_data"
    },
    {
     "data": {
      "text/plain": [
       "<Figure size 720x720 with 0 Axes>"
      ]
     },
     "metadata": {},
     "output_type": "display_data"
    },
    {
     "data": {
      "text/plain": [
       "<Figure size 720x720 with 0 Axes>"
      ]
     },
     "metadata": {},
     "output_type": "display_data"
    },
    {
     "data": {
      "text/plain": [
       "<Figure size 720x720 with 0 Axes>"
      ]
     },
     "metadata": {},
     "output_type": "display_data"
    },
    {
     "data": {
      "text/plain": [
       "<Figure size 720x720 with 0 Axes>"
      ]
     },
     "metadata": {},
     "output_type": "display_data"
    },
    {
     "data": {
      "text/plain": [
       "<Figure size 720x720 with 0 Axes>"
      ]
     },
     "metadata": {},
     "output_type": "display_data"
    },
    {
     "data": {
      "text/plain": [
       "<Figure size 720x720 with 0 Axes>"
      ]
     },
     "metadata": {},
     "output_type": "display_data"
    },
    {
     "data": {
      "text/plain": [
       "<Figure size 720x720 with 0 Axes>"
      ]
     },
     "metadata": {},
     "output_type": "display_data"
    },
    {
     "data": {
      "text/plain": [
       "<Figure size 720x720 with 0 Axes>"
      ]
     },
     "metadata": {},
     "output_type": "display_data"
    },
    {
     "data": {
      "text/plain": [
       "<Figure size 720x720 with 0 Axes>"
      ]
     },
     "metadata": {},
     "output_type": "display_data"
    },
    {
     "data": {
      "text/plain": [
       "<Figure size 720x720 with 0 Axes>"
      ]
     },
     "metadata": {},
     "output_type": "display_data"
    },
    {
     "data": {
      "text/plain": [
       "<Figure size 720x720 with 0 Axes>"
      ]
     },
     "metadata": {},
     "output_type": "display_data"
    },
    {
     "data": {
      "text/plain": [
       "<Figure size 720x720 with 0 Axes>"
      ]
     },
     "metadata": {},
     "output_type": "display_data"
    },
    {
     "data": {
      "text/plain": [
       "<Figure size 720x720 with 0 Axes>"
      ]
     },
     "metadata": {},
     "output_type": "display_data"
    },
    {
     "data": {
      "text/plain": [
       "<Figure size 720x720 with 0 Axes>"
      ]
     },
     "metadata": {},
     "output_type": "display_data"
    },
    {
     "data": {
      "text/plain": [
       "<Figure size 720x720 with 0 Axes>"
      ]
     },
     "metadata": {},
     "output_type": "display_data"
    },
    {
     "data": {
      "text/plain": [
       "<Figure size 720x720 with 0 Axes>"
      ]
     },
     "metadata": {},
     "output_type": "display_data"
    },
    {
     "data": {
      "text/plain": [
       "<Figure size 720x720 with 0 Axes>"
      ]
     },
     "metadata": {},
     "output_type": "display_data"
    },
    {
     "data": {
      "text/plain": [
       "<Figure size 720x720 with 0 Axes>"
      ]
     },
     "metadata": {},
     "output_type": "display_data"
    },
    {
     "data": {
      "text/plain": [
       "<Figure size 720x720 with 0 Axes>"
      ]
     },
     "metadata": {},
     "output_type": "display_data"
    },
    {
     "data": {
      "text/plain": [
       "<Figure size 720x720 with 0 Axes>"
      ]
     },
     "metadata": {},
     "output_type": "display_data"
    },
    {
     "data": {
      "text/plain": [
       "<Figure size 720x720 with 0 Axes>"
      ]
     },
     "metadata": {},
     "output_type": "display_data"
    },
    {
     "data": {
      "text/plain": [
       "<Figure size 720x720 with 0 Axes>"
      ]
     },
     "metadata": {},
     "output_type": "display_data"
    },
    {
     "data": {
      "text/plain": [
       "<Figure size 720x720 with 0 Axes>"
      ]
     },
     "metadata": {},
     "output_type": "display_data"
    },
    {
     "data": {
      "text/plain": [
       "<Figure size 720x720 with 0 Axes>"
      ]
     },
     "metadata": {},
     "output_type": "display_data"
    },
    {
     "data": {
      "text/plain": [
       "<Figure size 720x720 with 0 Axes>"
      ]
     },
     "metadata": {},
     "output_type": "display_data"
    },
    {
     "data": {
      "text/plain": [
       "<Figure size 720x720 with 0 Axes>"
      ]
     },
     "metadata": {},
     "output_type": "display_data"
    },
    {
     "data": {
      "text/plain": [
       "<Figure size 720x720 with 0 Axes>"
      ]
     },
     "metadata": {},
     "output_type": "display_data"
    },
    {
     "data": {
      "text/plain": [
       "<Figure size 720x720 with 0 Axes>"
      ]
     },
     "metadata": {},
     "output_type": "display_data"
    },
    {
     "data": {
      "text/plain": [
       "<Figure size 720x720 with 0 Axes>"
      ]
     },
     "metadata": {},
     "output_type": "display_data"
    },
    {
     "data": {
      "text/plain": [
       "<Figure size 720x720 with 0 Axes>"
      ]
     },
     "metadata": {},
     "output_type": "display_data"
    },
    {
     "data": {
      "text/plain": [
       "<Figure size 720x720 with 0 Axes>"
      ]
     },
     "metadata": {},
     "output_type": "display_data"
    },
    {
     "data": {
      "text/plain": [
       "<Figure size 720x720 with 0 Axes>"
      ]
     },
     "metadata": {},
     "output_type": "display_data"
    },
    {
     "data": {
      "text/plain": [
       "<Figure size 720x720 with 0 Axes>"
      ]
     },
     "metadata": {},
     "output_type": "display_data"
    },
    {
     "data": {
      "text/plain": [
       "<Figure size 720x720 with 0 Axes>"
      ]
     },
     "metadata": {},
     "output_type": "display_data"
    },
    {
     "data": {
      "text/plain": [
       "<Figure size 720x720 with 0 Axes>"
      ]
     },
     "metadata": {},
     "output_type": "display_data"
    },
    {
     "data": {
      "text/plain": [
       "<Figure size 720x720 with 0 Axes>"
      ]
     },
     "metadata": {},
     "output_type": "display_data"
    },
    {
     "data": {
      "text/plain": [
       "<Figure size 720x720 with 0 Axes>"
      ]
     },
     "metadata": {},
     "output_type": "display_data"
    },
    {
     "data": {
      "text/plain": [
       "<Figure size 720x720 with 0 Axes>"
      ]
     },
     "metadata": {},
     "output_type": "display_data"
    },
    {
     "data": {
      "text/plain": [
       "<Figure size 720x720 with 0 Axes>"
      ]
     },
     "metadata": {},
     "output_type": "display_data"
    },
    {
     "data": {
      "text/plain": [
       "<Figure size 720x720 with 0 Axes>"
      ]
     },
     "metadata": {},
     "output_type": "display_data"
    },
    {
     "data": {
      "text/plain": [
       "<Figure size 720x720 with 0 Axes>"
      ]
     },
     "metadata": {},
     "output_type": "display_data"
    },
    {
     "data": {
      "text/plain": [
       "<Figure size 720x720 with 0 Axes>"
      ]
     },
     "metadata": {},
     "output_type": "display_data"
    },
    {
     "data": {
      "text/plain": [
       "<Figure size 720x720 with 0 Axes>"
      ]
     },
     "metadata": {},
     "output_type": "display_data"
    },
    {
     "data": {
      "text/plain": [
       "<Figure size 720x720 with 0 Axes>"
      ]
     },
     "metadata": {},
     "output_type": "display_data"
    },
    {
     "data": {
      "text/plain": [
       "<Figure size 720x720 with 0 Axes>"
      ]
     },
     "metadata": {},
     "output_type": "display_data"
    },
    {
     "data": {
      "text/plain": [
       "<Figure size 720x720 with 0 Axes>"
      ]
     },
     "metadata": {},
     "output_type": "display_data"
    },
    {
     "data": {
      "text/plain": [
       "<Figure size 720x720 with 0 Axes>"
      ]
     },
     "metadata": {},
     "output_type": "display_data"
    },
    {
     "data": {
      "text/plain": [
       "<Figure size 720x720 with 0 Axes>"
      ]
     },
     "metadata": {},
     "output_type": "display_data"
    },
    {
     "data": {
      "text/plain": [
       "<Figure size 720x720 with 0 Axes>"
      ]
     },
     "metadata": {},
     "output_type": "display_data"
    },
    {
     "data": {
      "text/plain": [
       "<Figure size 720x720 with 0 Axes>"
      ]
     },
     "metadata": {},
     "output_type": "display_data"
    },
    {
     "data": {
      "text/plain": [
       "<Figure size 720x720 with 0 Axes>"
      ]
     },
     "metadata": {},
     "output_type": "display_data"
    },
    {
     "data": {
      "text/plain": [
       "<Figure size 720x720 with 0 Axes>"
      ]
     },
     "metadata": {},
     "output_type": "display_data"
    },
    {
     "data": {
      "text/plain": [
       "<Figure size 720x720 with 0 Axes>"
      ]
     },
     "metadata": {},
     "output_type": "display_data"
    },
    {
     "data": {
      "text/plain": [
       "<Figure size 720x720 with 0 Axes>"
      ]
     },
     "metadata": {},
     "output_type": "display_data"
    },
    {
     "data": {
      "text/plain": [
       "<Figure size 720x720 with 0 Axes>"
      ]
     },
     "metadata": {},
     "output_type": "display_data"
    },
    {
     "data": {
      "text/plain": [
       "<Figure size 720x720 with 0 Axes>"
      ]
     },
     "metadata": {},
     "output_type": "display_data"
    },
    {
     "data": {
      "text/plain": [
       "<Figure size 720x720 with 0 Axes>"
      ]
     },
     "metadata": {},
     "output_type": "display_data"
    },
    {
     "data": {
      "text/plain": [
       "<Figure size 720x720 with 0 Axes>"
      ]
     },
     "metadata": {},
     "output_type": "display_data"
    },
    {
     "data": {
      "text/plain": [
       "<Figure size 720x720 with 0 Axes>"
      ]
     },
     "metadata": {},
     "output_type": "display_data"
    },
    {
     "data": {
      "text/plain": [
       "<Figure size 720x720 with 0 Axes>"
      ]
     },
     "metadata": {},
     "output_type": "display_data"
    },
    {
     "data": {
      "text/plain": [
       "<Figure size 720x720 with 0 Axes>"
      ]
     },
     "metadata": {},
     "output_type": "display_data"
    },
    {
     "data": {
      "text/plain": [
       "<Figure size 720x720 with 0 Axes>"
      ]
     },
     "metadata": {},
     "output_type": "display_data"
    },
    {
     "data": {
      "text/plain": [
       "<Figure size 720x720 with 0 Axes>"
      ]
     },
     "metadata": {},
     "output_type": "display_data"
    },
    {
     "data": {
      "text/plain": [
       "<Figure size 720x720 with 0 Axes>"
      ]
     },
     "metadata": {},
     "output_type": "display_data"
    },
    {
     "data": {
      "text/plain": [
       "<Figure size 720x720 with 0 Axes>"
      ]
     },
     "metadata": {},
     "output_type": "display_data"
    },
    {
     "data": {
      "text/plain": [
       "<Figure size 720x720 with 0 Axes>"
      ]
     },
     "metadata": {},
     "output_type": "display_data"
    },
    {
     "data": {
      "text/plain": [
       "<Figure size 720x720 with 0 Axes>"
      ]
     },
     "metadata": {},
     "output_type": "display_data"
    },
    {
     "data": {
      "text/plain": [
       "<Figure size 720x720 with 0 Axes>"
      ]
     },
     "metadata": {},
     "output_type": "display_data"
    },
    {
     "data": {
      "text/plain": [
       "<Figure size 720x720 with 0 Axes>"
      ]
     },
     "metadata": {},
     "output_type": "display_data"
    },
    {
     "data": {
      "text/plain": [
       "<Figure size 720x720 with 0 Axes>"
      ]
     },
     "metadata": {},
     "output_type": "display_data"
    },
    {
     "data": {
      "text/plain": [
       "<Figure size 720x720 with 0 Axes>"
      ]
     },
     "metadata": {},
     "output_type": "display_data"
    },
    {
     "data": {
      "text/plain": [
       "<Figure size 720x720 with 0 Axes>"
      ]
     },
     "metadata": {},
     "output_type": "display_data"
    },
    {
     "data": {
      "text/plain": [
       "<Figure size 720x720 with 0 Axes>"
      ]
     },
     "metadata": {},
     "output_type": "display_data"
    },
    {
     "name": "stdout",
     "output_type": "stream",
     "text": [
      "0.975\n",
      "0.9375\n",
      "0.9875\n",
      "0.9625\n",
      "0.8625\n"
     ]
    }
   ],
   "source": [
    "train, train_labels, test, test_labels = load_from_folders('data/orl_faces/', 8 ,0, 100)\n",
    "\n",
    "hist_clf = HistogramClassifier(size=10)\n",
    "dft_clf = DFTClassifier(size=66)\n",
    "dct_clf = DCTClassifier(size=4)\n",
    "scale_clf = ScaleClassifier(scales=[4])\n",
    "grad_clf = GradientClassifier(ksize=13)\n",
    "\n",
    "\n",
    "hist=0\n",
    "dft=0\n",
    "dctt=0\n",
    "scale=0\n",
    "grad=0\n",
    "\n",
    "\n",
    "for i, img in enumerate(train):\n",
    "    label = train_labels[i]\n",
    "    \n",
    "    fig = plt.figure(figsize=(10,10))\n",
    "    fig.add_subplot(2,3, 1)\n",
    "    \n",
    "    pred = classify(hist_clf, train[i], test, test_labels)\n",
    "    if label==pred:\n",
    "        plt.imshow(img, cmap=\"gray\")\n",
    "        hist += 1\n",
    "    else:\n",
    "        image1 = cv2.copyMakeBorder(test[test_labels.index(pred)], top, bottom, left, right, cv2.BORDER_CONSTANT, value=color)\n",
    "        plt.imshow(image1, cmap=\"hot\")\n",
    "    plt.title(\"Гистограмма яркости\")\n",
    "    \n",
    "    fig.add_subplot(2,3, 2)\n",
    "    pred = classify(dft_clf, train[i], test, test_labels)\n",
    "    if label==pred:\n",
    "        plt.imshow(img, cmap=\"gray\")\n",
    "        dft += 1\n",
    "    else:\n",
    "        image1 = cv2.copyMakeBorder(test[test_labels.index(pred)], top, bottom, left, right, cv2.BORDER_CONSTANT, value=color)\n",
    "        plt.imshow(image1, cmap=\"hot\")\n",
    "    plt.title(\"DFT\")\n",
    "    \n",
    "    fig.add_subplot(2,3, 3)\n",
    "    \n",
    "    pred=classify(dct_clf, train[i], test, test_labels)\n",
    "    if label==pred:\n",
    "        plt.imshow(img, cmap=\"gray\")\n",
    "        dctt += 1\n",
    "    else:\n",
    "        image1 = cv2.copyMakeBorder(test[test_labels.index(pred)], top, bottom, left, right, cv2.BORDER_CONSTANT, value=color)\n",
    "        plt.imshow(image1, cmap=\"hot\")\n",
    "    plt.title(\"DCT\")\n",
    "       \n",
    "    fig.add_subplot(2,3, 4)\n",
    "    \n",
    "    pred=classify(scale_clf, train[i], test, test_labels)\n",
    "    if label==pred:\n",
    "        scale += 1\n",
    "        plt.imshow(img, cmap=\"gray\")\n",
    "    else:\n",
    "        image1 = cv2.copyMakeBorder(test[test_labels.index(pred)], top, bottom, left, right, cv2.BORDER_CONSTANT, value=color)\n",
    "        plt.imshow(image1, cmap=\"hot\")\n",
    "    plt.title(\"Scale\")\n",
    "    \n",
    "\n",
    "    fig.add_subplot(2,3, 5)\n",
    "    pred=classify(grad_clf, train[i], test, test_labels)\n",
    "    if label==pred:\n",
    "        plt.imshow(img, cmap=\"gray\")\n",
    "        grad += 1\n",
    "    else:\n",
    "        image1 = cv2.copyMakeBorder(test[test_labels.index(pred)], top, bottom, left, right, cv2.BORDER_CONSTANT, value=color)\n",
    "        plt.imshow(image1, cmap=\"hot\")\n",
    "    plt.title(\"Градиент \")\n",
    "    \n",
    "    \n",
    "    fig.add_subplot(2,3, 6)\n",
    "        \n",
    "    plt.imshow(test[test_labels.index(label)], cmap=\"gray\")\n",
    "    plt.title(\"Real\")\n",
    "    \n",
    "    fig.savefig('data/temp/' + str(i) + '.png')\n",
    "    fig.clear()\n",
    "    plt.show()\n",
    "    \n",
    "    \n",
    "print(hist/ len(train))\n",
    "print(dft/ len(train))\n",
    "print(dctt/ len(train))\n",
    "print(scale/ len(train))\n",
    "print(grad/ len(train))"
   ]
  },
  {
   "cell_type": "code",
   "execution_count": 23,
   "metadata": {},
   "outputs": [
    {
     "data": {
      "text/html": [
       "<img src=\"results.gif\"/>"
      ],
      "text/plain": [
       "<IPython.core.display.Image object>"
      ]
     },
     "execution_count": 23,
     "metadata": {},
     "output_type": "execute_result"
    }
   ],
   "source": [
    "images = []\n",
    "filenames = []\n",
    "for i in range(len(train)):\n",
    "    filenames.append(\"data/temp/{}.png\".format(i))\n",
    "for filename in filenames:\n",
    "    images.append(imageio.imread(filename))\n",
    "    \n",
    "imageio.mimsave('results.gif', images, duration=0.2)\n",
    "\n",
    "Image(url='results.gif')  "
   ]
  },
  {
   "cell_type": "code",
   "execution_count": 24,
   "metadata": {},
   "outputs": [],
   "source": [
    "class_images = 10\n",
    "hist_clf = HistogramClassifier(size=15)\n",
    "dft_clf = DFTClassifier(size=60)\n",
    "dct_clf = DCTClassifier(size=4)\n",
    "scale_clf = ScaleClassifier(scales=[4])\n",
    "grad_clf = GradientClassifier(ksize=13)"
   ]
  },
  {
   "cell_type": "code",
   "execution_count": 26,
   "metadata": {},
   "outputs": [
    {
     "name": "stdout",
     "output_type": "stream",
     "text": [
      "[0.5847953216374269, 0.7532894736842105, 0.8157894736842105, 0.8508771929824561, 0.9105263157894737, 0.9407894736842105, 0.9824561403508771, 0.9736842105263158, 0.9736842105263158]\n"
     ]
    },
    {
     "data": {
      "image/png": "[encoded data removed]",
      "text/plain": [
       "<Figure size 720x360 with 1 Axes>"
      ]
     },
     "metadata": {
      "needs_background": "light"
     },
     "output_type": "display_data"
    }
   ],
   "source": [
    "history = []\n",
    "for i in range(1,class_images):\n",
    "    train, train_labels, test, test_labels = load_from_folders('data/orl_faces/', i ,0, 40, 2)\n",
    "    \n",
    "    acc =0\n",
    "    for i, img in enumerate(train):\n",
    "        label = train_labels[i]\n",
    "\n",
    "        if label==classify(hist_clf, train[i], test, test_labels):\n",
    "            acc += 1\n",
    "    acc = float(acc) / len(train)\n",
    "    history.append(acc)\n",
    "    \n",
    "print(history)\n",
    "\n",
    "x_points = [i*40 for i in range(1,class_images)]\n",
    "fig = plt.figure(figsize=(10,5))\n",
    "plt.plot(x_points, history)\n",
    "plt.title(\"Гистограмма яркости\")\n",
    "plt.xlabel(\"Размер\")\n",
    "plt.ylabel('Точность')\n",
    "plt.ylim((min(history),1))\n",
    "\n",
    "plt.show()"
   ]
  },
  {
   "cell_type": "code",
   "execution_count": 27,
   "metadata": {},
   "outputs": [
    {
     "name": "stdout",
     "output_type": "stream",
     "text": [
      "[0.4327485380116959, 0.625, 0.7142857142857143, 0.8026315789473685, 0.8526315789473684, 0.8881578947368421, 0.9210526315789473, 0.9605263157894737]\n"
     ]
    },
    {
     "data": {
      "image/png": "[encoded data removed]",
      "text/plain": [
       "<Figure size 720x360 with 1 Axes>"
      ]
     },
     "metadata": {
      "needs_background": "light"
     },
     "output_type": "display_data"
    }
   ],
   "source": [
    "class_images = 9\n",
    "\n",
    "history = []\n",
    "for i in range(1,class_images):\n",
    "    train, train_labels, test, test_labels = load_from_folders('data/orl_faces/', i ,0, 40)\n",
    "    \n",
    "    acc =0\n",
    "    for i, img in enumerate(train):\n",
    "        label = train_labels[i]\n",
    "\n",
    "        if label==classify(dft_clf, train[i], test, test_labels):\n",
    "            acc += 1\n",
    "    acc = float(acc) / len(train)\n",
    "    history.append(acc)\n",
    "    \n",
    "print(history)\n",
    "\n",
    "x_points = [i*40 for i in range(1,class_images)]\n",
    "fig = plt.figure(figsize=(10,5))\n",
    "plt.plot(x_points, history)\n",
    "plt.title(\"DFT\")\n",
    "plt.xlabel(\"Размер\")\n",
    "plt.ylabel('Точность')\n",
    "plt.ylim((0,1))\n",
    "plt.ylim((min(history),1))\n",
    "\n",
    "plt.show()"
   ]
  },
  {
   "cell_type": "code",
   "execution_count": 28,
   "metadata": {},
   "outputs": [
    {
     "name": "stdout",
     "output_type": "stream",
     "text": [
      "[0.6257309941520468, 0.7697368421052632, 0.7857142857142857, 0.8947368421052632, 0.9526315789473684, 0.9605263157894737, 0.9736842105263158, 0.9868421052631579]\n"
     ]
    },
    {
     "data": {
      "image/png": "[encoded data removed]",
      "text/plain": [
       "<Figure size 720x360 with 1 Axes>"
      ]
     },
     "metadata": {
      "needs_background": "light"
     },
     "output_type": "display_data"
    }
   ],
   "source": [
    "class_images = 9\n",
    "history = []\n",
    "for i in range(1,class_images):\n",
    "    train, train_labels, test, test_labels = load_from_folders('data/orl_faces/', i ,0, 40)\n",
    "    \n",
    "    acc =0\n",
    "    for i, img in enumerate(train):\n",
    "        label = train_labels[i]\n",
    "\n",
    "        if label==classify(dct_clf, train[i], test, test_labels):\n",
    "            acc += 1\n",
    "    acc = float(acc) / len(train)\n",
    "    history.append(acc)\n",
    "    \n",
    "print(history)\n",
    "\n",
    "x_points = [i*40 for i in range(1,class_images)]\n",
    "fig = plt.figure(figsize=(10,5))\n",
    "plt.plot(x_points, history)\n",
    "plt.title(\"DCT\")\n",
    "plt.xlabel(\"Размер\")\n",
    "plt.ylabel('Точность')\n",
    "plt.ylim((0,1))\n",
    "plt.ylim((min(history),1))\n",
    "\n",
    "plt.show()"
   ]
  },
  {
   "cell_type": "code",
   "execution_count": 29,
   "metadata": {},
   "outputs": [
    {
     "name": "stdout",
     "output_type": "stream",
     "text": [
      "[0.6842105263157895, 0.8256578947368421, 0.8796992481203008, 0.9429824561403509, 0.9473684210526315, 0.9605263157894737, 0.9736842105263158, 0.9605263157894737]\n"
     ]
    },
    {
     "data": {
      "image/png": "[encoded data removed]",
      "text/plain": [
       "<Figure size 720x360 with 1 Axes>"
      ]
     },
     "metadata": {
      "needs_background": "light"
     },
     "output_type": "display_data"
    }
   ],
   "source": [
    "class_images = 9\n",
    "\n",
    "history = []\n",
    "for i in range(1,class_images):\n",
    "    train, train_labels, test, test_labels = load_from_folders('data/orl_faces/', i ,0, 40)\n",
    "    \n",
    "    acc =0\n",
    "    for i, img in enumerate(train):\n",
    "        label = train_labels[i]\n",
    "\n",
    "        if label==classify(scale_clf, train[i], test, test_labels):\n",
    "            acc += 1\n",
    "    acc = float(acc) / len(train)\n",
    "    history.append(acc)\n",
    "    \n",
    "print(history)\n",
    "\n",
    "x_points = [i*40 for i in range(1,class_images)]\n",
    "fig = plt.figure(figsize=(10,5))\n",
    "plt.plot(x_points, history)\n",
    "plt.title(\"Scale\")\n",
    "plt.xlabel(\"Размер\")\n",
    "plt.ylabel('Точность')\n",
    "\n",
    "plt.ylim((0,1))\n",
    "plt.ylim((min(history),1))\n",
    "plt.show()"
   ]
  },
  {
   "cell_type": "code",
   "execution_count": 30,
   "metadata": {},
   "outputs": [
    {
     "name": "stdout",
     "output_type": "stream",
     "text": [
      "[0.5292397660818714, 0.6052631578947368, 0.6766917293233082, 0.7368421052631579, 0.8210526315789474, 0.8289473684210527, 0.8157894736842105, 0.8552631578947368]\n"
     ]
    },
    {
     "data": {
      "image/png": "[encoded data removed]",
      "text/plain": [
       "<Figure size 720x360 with 1 Axes>"
      ]
     },
     "metadata": {
      "needs_background": "light"
     },
     "output_type": "display_data"
    }
   ],
   "source": [
    "class_images = 9\n",
    "\n",
    "history = []\n",
    "for i in range(1,class_images):\n",
    "    train, train_labels, test, test_labels = load_from_folders('data/orl_faces/', i ,0, 40)\n",
    "    \n",
    "    acc =0\n",
    "    for i, img in enumerate(train):\n",
    "        label = train_labels[i]\n",
    "\n",
    "        if label==classify(grad_clf, train[i], test, test_labels):\n",
    "            acc += 1\n",
    "    acc = float(acc) / len(train)\n",
    "    history.append(acc)\n",
    "    \n",
    "print(history)\n",
    "\n",
    "x_points = [i * 40 for i in range(1,class_images)]\n",
    "fig = plt.figure(figsize=(10,5))\n",
    "plt.plot(x_points, history)\n",
    "plt.title(\"Градиент\")\n",
    "plt.xlabel(\"Размер\")\n",
    "plt.ylabel('Точность')\n",
    "plt.ylim((0,1))\n",
    "plt.ylim((min(history),1))\n",
    "\n",
    "plt.show()"
   ]
  },
  {
   "cell_type": "code",
   "execution_count": 31,
   "metadata": {},
   "outputs": [],
   "source": [
    "\n",
    "clfs = [scale_clf, dct_clf, dft_clf, hist_clf, grad_clf]\n",
    "\n",
    "def classify_vote(clfs, img, train, train_labels):\n",
    "    \n",
    "    votes = []\n",
    "    for clf in clfs:\n",
    "        distances = np.array(list(map(lambda img2: clf.Distance(img, img2), train)))\n",
    "        votes.append(train_labels[distances.argmin()])\n",
    "    \n",
    "    count = Counter(votes)\n",
    "    return count.most_common()[0][0]\n"
   ]
  },
  {
   "cell_type": "code",
   "execution_count": 32,
   "metadata": {},
   "outputs": [
    {
     "name": "stdout",
     "output_type": "stream",
     "text": [
      "[0.7166666666666667, 0.840625, 0.9, 0.9708333333333333, 0.98, 0.99375, 1.0, 0.9875]\n"
     ]
    },
    {
     "data": {
      "image/png": "[encoded data removed]",
      "text/plain": [
       "<Figure size 720x360 with 1 Axes>"
      ]
     },
     "metadata": {
      "needs_background": "light"
     },
     "output_type": "display_data"
    }
   ],
   "source": [
    "class_images = 9\n",
    "\n",
    "history = []\n",
    "for i in range(1,class_images):\n",
    "    train, train_labels, test, test_labels = load_from_folders('data/orl_faces/', i ,0, 100)\n",
    "    \n",
    "    acc =0\n",
    "    for i, img in enumerate(train):\n",
    "        label = train_labels[i]\n",
    "\n",
    "        if label==classify_vote(clfs, train[i], test, test_labels):\n",
    "            acc += 1\n",
    "    acc = float(acc) / len(train)\n",
    "    history.append(acc)\n",
    "    \n",
    "print(history)\n",
    "\n",
    "x_points = [i * 40 for i in range(1,class_images)]\n",
    "fig = plt.figure(figsize=(10,5))\n",
    "plt.plot(x_points, history)\n",
    "plt.title(\"Голосование\")\n",
    "plt.xlabel(\"Размер\")\n",
    "plt.ylabel('Точность')\n",
    "plt.ylim((0,1))\n",
    "plt.ylim((0.5,1))\n",
    "\n",
    "plt.show()"
   ]
  },
  {
   "cell_type": "code",
   "execution_count": 42,
   "metadata": {},
   "outputs": [],
   "source": [
    "from func.upload_data import *\n",
    "from func.classyfiers import *\n",
    "import numpy as np\n",
    "import warnings"
   ]
  },
  {
   "cell_type": "code",
   "execution_count": 41,
   "metadata": {},
   "outputs": [
    {
     "name": "stdout",
     "output_type": "stream",
     "text": [
      "40\n",
      "Parallel system accuracy: 0.7583333333333334\n",
      "80\n",
      "Parallel system accuracy: 0.84375\n",
      "120\n",
      "Parallel system accuracy: 0.8464285714285715\n",
      "160\n",
      "Parallel system accuracy: 0.8583333333333334\n",
      "200\n",
      "Parallel system accuracy: 0.8850000000000001\n",
      "240\n",
      "Parallel system accuracy: 0.93125\n",
      "280\n",
      "Parallel system accuracy: 0.9416666666666668\n",
      "320\n",
      "Parallel system accuracy: 0.95\n",
      "360\n",
      "Parallel system accuracy: 0.95\n"
     ]
    },
    {
     "data": {
      "image/png": "[encoded data removed]",
      "text/plain": [
       "<Figure size 432x288 with 1 Axes>"
      ]
     },
     "metadata": {
      "needs_background": "light"
     },
     "output_type": "display_data"
    }
   ],
   "source": [
    "set=40\n",
    "\n",
    "datasets, labels, train = facedataset(set)\n",
    "\n",
    "X_mean = np.array(train).mean(axis=0)\n",
    "X_std = np.array(train).std(axis=0)\n",
    "train_norm = (train - X_mean)/X_std\n",
    "datasets_norm = (datasets - X_mean)/X_std\n",
    "\n",
    "trainnew = []\n",
    "trainnew_n=[]\n",
    "trainnew_n.append(train_norm)\n",
    "trainnew.append(train)\n",
    "X=[]\n",
    "Parallel=[]\n",
    "\n",
    "for i in range(9):\n",
    "    #print('i', i+1)\n",
    "    if i!=0:\n",
    "        traintmp =[]\n",
    "        datasets_norm_tmp =[]\n",
    "        for l in range(len(datasets_norm)):\n",
    "            traintmp.append(datasets_norm[l][0])\n",
    "            datasets_norm_tmp.append(np.delete(datasets_norm[l],0,0))\n",
    "        datasets_norm = np.array(datasets_norm_tmp)\n",
    "    #print(datasets_norm.shape)\n",
    "        trainnew_n.append(traintmp)\n",
    "\n",
    "        print(len(trainnew_n[0])*len(trainnew_n))\n",
    "        X.append(len(trainnew_n[0])*len(trainnew_n))\n",
    "\n",
    "        traintmp = []\n",
    "\n",
    "        for l in range(len(datasets)):\n",
    "            traintmp.append(datasets[l][0])\n",
    "            datasets[l].pop(0)\n",
    "\n",
    "        trainnew.append(traintmp)\n",
    "    else:\n",
    "        print(set)\n",
    "        X.append(40)\n",
    "    \n",
    "    label = 0\n",
    "    loss = 1\n",
    "    l_all =0\n",
    "    # print('All')\n",
    "    for dataset in datasets:\n",
    "        loss=0\n",
    "        for img in dataset:\n",
    "            all_dist_Par = []\n",
    "            \n",
    "            for train in trainnew:\n",
    "            \n",
    "                dist = [Scale_clsf(img, img_c) for img_c in train]\n",
    "                dist = dist / np.sum(dist)\n",
    "                all_dist_Par.append(dist.argmin())\n",
    "\n",
    "                dist = [RP_clsf(img, img_c) for img_c in train]\n",
    "                dist = dist / np.sum(dist)\n",
    "                all_dist_Par.append(dist.argmin())\n",
    "\n",
    "                dist = [H_clsf(img, img_c) for img_c in train]\n",
    "                dist = dist / np.sum(dist)\n",
    "                all_dist_Par.append(dist.argmin())\n",
    "\n",
    "                dist = [G_clsf(img, img_c) for img_c in train]\n",
    "                dist = dist / np.sum(dist)\n",
    "                all_dist_Par.append(dist.argmin())\n",
    "\n",
    "                dist = [DCT_clsf(img, img_c) for img_c in train]\n",
    "                dist = dist / np.sum(dist)\n",
    "                all_dist_Par.append(dist.argmin())\n",
    "\n",
    "                dist = [DFT_clsf(img, img_c) for img_c in train]\n",
    "                dist = dist / np.sum(dist)\n",
    "                all_dist_Par.append(dist.argmin())\n",
    "\n",
    "            tmp_labels = np.array([all_dist_Par.count(g) for g in all_dist_Par])\n",
    "            loss = loss +1 if all_dist_Par[tmp_labels.argmax()]==label else loss\n",
    "\n",
    "        l_all += loss / len(dataset)\n",
    "        label += 1\n",
    "    print('Parallel system accuracy:', l_all / len(datasets))\n",
    "    Parallel.append(l_all / len(datasets_norm))\n",
    "\n",
    "plt.plot(X, Parallel)\n",
    "plt.title(\"Голосование\")\n",
    "plt.xlabel('Размер')\n",
    "plt.ylabel('Точность')\n",
    "plt.show()"
   ]
  },
  {
   "cell_type": "code",
   "execution_count": null,
   "metadata": {},
   "outputs": [],
   "source": []
  },
  {
   "cell_type": "code",
   "execution_count": null,
   "metadata": {},
   "outputs": [],
   "source": []
  }
 ],
 "metadata": {
  "kernelspec": {
   "display_name": "Python 3",
   "language": "python",
   "name": "python3"
  },
  "language_info": {
   "codemirror_mode": {
    "name": "ipython",
    "version": 3
   },
   "file_extension": ".py",
   "mimetype": "text/x-python",
   "name": "python",
   "nbconvert_exporter": "python",
   "pygments_lexer": "ipython3",
   "version": "3.7.5"
  }
 },
 "nbformat": 4,
 "nbformat_minor": 2
}
